{
 "cells": [
  {
   "cell_type": "markdown",
   "id": "54a3f108",
   "metadata": {},
   "source": [
    "# Neural Network Course\n",
    "## Homework 1\n",
    "## Mojtaba Akbari \n",
    "### SID:4012015004\n"
   ]
  },
  {
   "cell_type": "markdown",
   "id": "7fccaeab",
   "metadata": {},
   "source": [
    "#### **Note**: this notebook was done in different days so its must run from first cell to belowest cell to works correctly."
   ]
  },
  {
   "cell_type": "markdown",
   "id": "0670d3f2",
   "metadata": {},
   "source": [
    "# 1-1"
   ]
  },
  {
   "cell_type": "code",
   "execution_count": 8,
   "id": "847f4a96",
   "metadata": {},
   "outputs": [],
   "source": [
    "import numpy as np"
   ]
  },
  {
   "cell_type": "code",
   "execution_count": 9,
   "id": "545844e7",
   "metadata": {},
   "outputs": [],
   "source": [
    "weights = np.random.uniform(-1, 1, (6, 4))\n",
    "biases = np.random.uniform(-1, 1, (6))"
   ]
  },
  {
   "cell_type": "code",
   "execution_count": 10,
   "id": "426ca8fa",
   "metadata": {},
   "outputs": [],
   "source": [
    "def relu(x):\n",
    "    return np.maximum(0, x)"
   ]
  },
  {
   "cell_type": "code",
   "execution_count": 11,
   "id": "c786bec9",
   "metadata": {},
   "outputs": [],
   "source": [
    "p=[1,-2,5,1]"
   ]
  },
  {
   "cell_type": "code",
   "execution_count": 12,
   "id": "5019c4af",
   "metadata": {},
   "outputs": [],
   "source": [
    "output = relu(np.dot(weights, p) + biases)"
   ]
  },
  {
   "cell_type": "code",
   "execution_count": 13,
   "id": "ed208ede",
   "metadata": {},
   "outputs": [
    {
     "data": {
      "text/plain": [
       "array([3.1912204 , 1.07345562, 0.        , 0.        , 2.98924929,\n",
       "       0.50647088])"
      ]
     },
     "execution_count": 13,
     "metadata": {},
     "output_type": "execute_result"
    }
   ],
   "source": [
    "output"
   ]
  },
  {
   "cell_type": "code",
   "execution_count": 14,
   "id": "419eb49d",
   "metadata": {},
   "outputs": [
    {
     "data": {
      "text/plain": [
       "array([[ 0.84874795,  0.66178566,  0.64989692,  0.76258825],\n",
       "       [-0.68641707,  0.55020285,  0.4613919 , -0.40955659],\n",
       "       [ 0.42878816, -0.06921946, -0.66632034, -0.79841727],\n",
       "       [ 0.89849414,  0.79850344, -0.69487317,  0.13488643],\n",
       "       [-0.34614757, -0.53479556,  0.27917191,  0.19115475],\n",
       "       [ 0.79122577, -0.0150513 , -0.07744569,  0.46000596]])"
      ]
     },
     "execution_count": 14,
     "metadata": {},
     "output_type": "execute_result"
    }
   ],
   "source": [
    "weights"
   ]
  },
  {
   "cell_type": "code",
   "execution_count": 15,
   "id": "9abbf3a2",
   "metadata": {},
   "outputs": [
    {
     "data": {
      "text/plain": [
       "array([-0.34602909,  0.9628755 , -0.91114891, -0.93594488,  0.67879141,\n",
       "       -0.38763501])"
      ]
     },
     "execution_count": 15,
     "metadata": {},
     "output_type": "execute_result"
    }
   ],
   "source": [
    "biases"
   ]
  },
  {
   "cell_type": "markdown",
   "id": "5c8785fa",
   "metadata": {},
   "source": [
    "# 1-2"
   ]
  },
  {
   "cell_type": "code",
   "execution_count": 16,
   "id": "26bdfdcb",
   "metadata": {},
   "outputs": [],
   "source": [
    "import numpy as np"
   ]
  },
  {
   "cell_type": "code",
   "execution_count": 40,
   "id": "40af1629",
   "metadata": {},
   "outputs": [],
   "source": [
    "weights_1 = np.random.uniform(-1, 1, (3, 1))\n",
    "biases_1 = np.random.uniform(-1, 1, (2))"
   ]
  },
  {
   "cell_type": "code",
   "execution_count": 41,
   "id": "9a8d3826",
   "metadata": {},
   "outputs": [
    {
     "data": {
      "text/plain": [
       "array([[ 0.96298952],\n",
       "       [ 0.99788207],\n",
       "       [-0.25795765]])"
      ]
     },
     "execution_count": 41,
     "metadata": {},
     "output_type": "execute_result"
    }
   ],
   "source": [
    "weights_1"
   ]
  },
  {
   "cell_type": "code",
   "execution_count": 42,
   "id": "0c726a84",
   "metadata": {},
   "outputs": [
    {
     "data": {
      "text/plain": [
       "array([-0.32614458,  0.38286615])"
      ]
     },
     "execution_count": 42,
     "metadata": {},
     "output_type": "execute_result"
    }
   ],
   "source": [
    "biases_1"
   ]
  },
  {
   "cell_type": "code",
   "execution_count": 56,
   "id": "e850513d",
   "metadata": {},
   "outputs": [],
   "source": [
    "p = [4,-1,-2]"
   ]
  },
  {
   "cell_type": "code",
   "execution_count": 57,
   "id": "a64e3798",
   "metadata": {},
   "outputs": [],
   "source": [
    "a1=relu((p[0]*weights_1[0,0] + p[1]*weights_1[1,0] + p[2]*weights_1[2,0])+biases_1[0])"
   ]
  },
  {
   "cell_type": "code",
   "execution_count": 58,
   "id": "a90e84ce",
   "metadata": {},
   "outputs": [],
   "source": [
    "a2=relu((p[1]*weights_1[1,0] + p[2]*weights_1[2,0])+biases_1[1])"
   ]
  },
  {
   "cell_type": "code",
   "execution_count": 59,
   "id": "31665be7",
   "metadata": {},
   "outputs": [],
   "source": [
    "weights_2 = np.random.uniform(-1, 1, (3, 1))\n",
    "biases_2 = np.random.uniform(-1, 1, (3))"
   ]
  },
  {
   "cell_type": "code",
   "execution_count": 60,
   "id": "8fa9818e",
   "metadata": {},
   "outputs": [],
   "source": [
    "o1= relu((a1*weights_2[0,0] +biases_2[0]))"
   ]
  },
  {
   "cell_type": "code",
   "execution_count": 61,
   "id": "c35d1974",
   "metadata": {},
   "outputs": [],
   "source": [
    "o2= relu((a2*weights_2[1,0] +biases_2[1]))"
   ]
  },
  {
   "cell_type": "code",
   "execution_count": 62,
   "id": "cc45fce9",
   "metadata": {},
   "outputs": [],
   "source": [
    "o3= relu((a1*weights_2[2,0] + a2*weights_2[2,0]) + biases_2[2])"
   ]
  },
  {
   "cell_type": "code",
   "execution_count": 63,
   "id": "1853d63a",
   "metadata": {},
   "outputs": [
    {
     "name": "stdout",
     "output_type": "stream",
     "text": [
      "1.9688208764194097 0.7716243453097609 1.6799393087765577\n"
     ]
    }
   ],
   "source": [
    "print(o1,o2,o3)"
   ]
  },
  {
   "cell_type": "code",
   "execution_count": 64,
   "id": "7296bb95",
   "metadata": {},
   "outputs": [],
   "source": [
    "p = [-3,5,1]"
   ]
  },
  {
   "cell_type": "code",
   "execution_count": 65,
   "id": "13cce0d7",
   "metadata": {},
   "outputs": [],
   "source": [
    "a1=relu((p[0]*weights_1[0,0] + p[1]*weights_1[1,0] + p[2]*weights_1[2,0])+biases_1[0])\n",
    "a2=relu((p[1]*weights_1[1,0] + p[2]*weights_1[2,0])+biases_1[1])"
   ]
  },
  {
   "cell_type": "code",
   "execution_count": 75,
   "id": "a5a2fbde",
   "metadata": {},
   "outputs": [],
   "source": [
    "weights_2 = np.random.uniform(-1, 1, (3, 1))\n",
    "biases_2 = np.random.uniform(-1, 1, (3))"
   ]
  },
  {
   "cell_type": "code",
   "execution_count": 76,
   "id": "5159d63d",
   "metadata": {},
   "outputs": [],
   "source": [
    "o1= relu((a1*weights_2[0,0] +biases_2[0]))\n",
    "o2= relu((a2*weights_2[1,0] +biases_2[1]))\n",
    "o3= relu((a1*weights_2[2,0] + a2*weights_2[2,0]) + biases_2[2])"
   ]
  },
  {
   "cell_type": "code",
   "execution_count": 77,
   "id": "e4e9afa1",
   "metadata": {},
   "outputs": [
    {
     "name": "stdout",
     "output_type": "stream",
     "text": [
      "1.0405502267130977 2.5278477679998668 0.0\n"
     ]
    }
   ],
   "source": [
    "print(o1,o2,o3)"
   ]
  },
  {
   "cell_type": "markdown",
   "id": "34c2f741",
   "metadata": {},
   "source": [
    "## روش دوم در این سوال این بود که وزن های قسمت های غیرمتصل را صفر در نظر گرفت."
   ]
  },
  {
   "cell_type": "markdown",
   "id": "ccc50c1c",
   "metadata": {},
   "source": [
    "# 1-3"
   ]
  },
  {
   "cell_type": "markdown",
   "id": "1cfb9619",
   "metadata": {},
   "source": [
    "# GeLU"
   ]
  },
  {
   "cell_type": "code",
   "execution_count": 5,
   "id": "ddb66ee0",
   "metadata": {},
   "outputs": [],
   "source": [
    "def gelu(x):\n",
    "    cdf = 0.5 * (1.0 + np.tanh(\n",
    "        (np.sqrt(2 / np.pi) * (x + 0.044715 * np.power(x, 3)))))\n",
    "    return x * cdf"
   ]
  },
  {
   "cell_type": "code",
   "execution_count": 15,
   "id": "d8ef2bb2",
   "metadata": {},
   "outputs": [],
   "source": [
    "input_gelu=np.linspace(-10,10,100)"
   ]
  },
  {
   "cell_type": "code",
   "execution_count": 16,
   "id": "88d1cf49",
   "metadata": {},
   "outputs": [],
   "source": [
    "output_gelu=gelu(input_gelu)"
   ]
  },
  {
   "cell_type": "code",
   "execution_count": 18,
   "id": "95631f74",
   "metadata": {},
   "outputs": [
    {
     "data": {
      "image/png": "[encoded data removed]",
      "text/plain": [
       "<Figure size 640x480 with 1 Axes>"
      ]
     },
     "metadata": {},
     "output_type": "display_data"
    }
   ],
   "source": [
    "import matplotlib.pyplot as plt\n",
    "plt.plot(input_gelu, output_gelu, label='GeLu')\n",
    "plt.grid()\n",
    "plt.show()"
   ]
  },
  {
   "cell_type": "markdown",
   "id": "c430241d",
   "metadata": {},
   "source": [
    "<p dir=\"rtl\">این تابع تغییرات ناگهانی در همسایگی  صفر را مانند RELU ندارد و گرادیان در همسایگی صفر بهتری ارائه می دهد. این امر سبب می شود کمتر با مشکل مرگ RELU مواجه شویم. بیشتر کاربرد تابع GELU  در NLP است اما تابع RELU بیشتر در شبکه های CNN کاربرد دارند.</p>"
   ]
  },
  {
   "cell_type": "markdown",
   "id": "0b66dc90",
   "metadata": {},
   "source": [
    "# Leaky ReLU"
   ]
  },
  {
   "cell_type": "code",
   "execution_count": 10,
   "id": "fa09f7cf",
   "metadata": {},
   "outputs": [],
   "source": [
    "def leaky_relu(x, alpha=0.01):\n",
    "    return np.maximum(alpha * x, x)"
   ]
  },
  {
   "cell_type": "code",
   "execution_count": 19,
   "id": "537e788f",
   "metadata": {},
   "outputs": [],
   "source": [
    "input_leakyrelu=np.linspace(-10,10,100)\n",
    "output_leakyrelu=leaky_relu(input_leakyrelu)"
   ]
  },
  {
   "cell_type": "code",
   "execution_count": 20,
   "id": "29054512",
   "metadata": {},
   "outputs": [
    {
     "data": {
      "image/png": "[encoded data removed]",
      "text/plain": [
       "<Figure size 640x480 with 1 Axes>"
      ]
     },
     "metadata": {},
     "output_type": "display_data"
    }
   ],
   "source": [
    "import matplotlib.pyplot as plt\n",
    "plt.plot(input_leakyrelu, output_leakyrelu, label='Leaky ReLu')\n",
    "plt.grid()\n",
    "plt.show()"
   ]
  },
  {
   "cell_type": "markdown",
   "id": "af14c2b4",
   "metadata": {},
   "source": [
    "<!DOCTYPE html>\n",
    "<html dir=\"rtl\"\n",
    "مشکل دیگری که در تابع ReLU با آن مواجه هستیم، مشکل مرگ ReLU است. منظور از مرگ ReLU این است که برخی از نورون‌های ReLU می‌میرند و غیرفعال می‌شوند و برای تمامی ورودی‌ها،  صفر (۰) را خروجی می‌دهند. در این حالت، هیچ گرادیانی جریان نمیابد و در صورتی‌که تعداد نورون‌های غیرفعال در شبکه عصبی زیاد باشد، عملکرد مدل تحت تأثیر قرار می‌گیرد. برای حل این مشکل می‌توانیم از تابع Leaky ReLU استفاده کنیم؛ Leaky ReLU در نمودار بالا همان قسمتی است که شیب در سمت چپ x=0 تغییر کرده است و  در نتیجه باعث گسترش یا به اصطلاح نشتی بازه تابع ReLU می‌شود.>"
   ]
  },
  {
   "cell_type": "markdown",
   "id": "c58ee2d8",
   "metadata": {},
   "source": [
    "<p dir=\"rtl\">یک از مشکلاتی که در تابع ReLU با آن مواجه هستیم، مشکل مرگ ReLU است. منظور از مرگ ReLU این است که برخی از نورون‌های ReLU می‌میرند و غیرفعال می‌شوند و برای تمامی ورودی‌ها،  صفر (۰) را خروجی می‌دهند. در این حالت، هیچ گرادیانی جریان نمیابد و در صورتی‌که تعداد نورون‌های غیرفعال در شبکه عصبی زیاد باشد، عملکرد مدل تحت تأثیر قرار می‌گیرد. برای حل این مشکل می‌توانیم از تابع Leaky ReLU استفاده کنیم؛ Leaky ReLU در نمودار بالا همان قسمتی است که شیب در سمت چپ x=0 تغییر کرده است و  در نتیجه باعث گسترش یا به اصطلاح نشتی بازه تابع ReLU می‌شود..</p>"
   ]
  },
  {
   "cell_type": "markdown",
   "id": "f891bf10",
   "metadata": {},
   "source": [
    "# 1-4"
   ]
  },
  {
   "cell_type": "code",
   "execution_count": 99,
   "id": "6eb53aa4",
   "metadata": {},
   "outputs": [
    {
     "name": "stdout",
     "output_type": "stream",
     "text": [
      "[ 0.99942558 -0.55780206  0.99999997 -0.21948088]\n"
     ]
    }
   ],
   "source": [
    "import numpy as np\n",
    "\n",
    "def linear(x, w, b):\n",
    "    return x @ w + b\n",
    "\n",
    "def tanh(x):\n",
    "    return np.tanh(x)\n",
    "\n",
    "def forward(x, w1, b1, w2, b2):\n",
    "    z1 = linear(x, w1, b1)\n",
    "    z2 = linear(z1, w2, b2)\n",
    "    y = tanh(z2)\n",
    "    return y\n",
    "\n",
    "x = np.array([1, 2, 3])\n",
    "w1 = np.random.normal(0, 1, (3, 12))\n",
    "b1 = np.zeros((12,))\n",
    "w2 = np.random.normal(0, 1, (12, 4))\n",
    "b2 = np.zeros((4,))\n",
    "\n",
    "y = forward(x, w1, b1, w2, b2)\n",
    "\n",
    "print(y)"
   ]
  },
  {
   "cell_type": "markdown",
   "id": "cb30c7db",
   "metadata": {},
   "source": [
    "#### اضافه کردن لایه پنهان با تابع فعال سازی خطی هیچ تاثیری در شبکه نخواهد داشت. یعنی اگر صد لایه پنهان با فعال سازی خطی اضافه کنیم انگار یک لایه پنهان داریم که وزن های آن فقط متفاوت است. لذا اضافه کردن لایه پنهان زمانی موثر است که از در آن ها از تابع فعال سازی غیر خطی استفاده کنیم."
   ]
  },
  {
   "cell_type": "markdown",
   "id": "84a03c3b",
   "metadata": {},
   "source": [
    "# 2-1"
   ]
  },
  {
   "cell_type": "markdown",
   "id": "e2b63fb0",
   "metadata": {},
   "source": [
    "وزن و بایاس هر خط را به صورت زیر به دست می آوریم."
   ]
  },
  {
   "cell_type": "markdown",
   "id": "076ba5d7",
   "metadata": {},
   "source": [
    "###  A"
   ]
  },
  {
   "cell_type": "code",
   "execution_count": 21,
   "id": "4073e59b",
   "metadata": {},
   "outputs": [
    {
     "name": "stdout",
     "output_type": "stream",
     "text": [
      "A:  W: [-1, 3] b: -6\n"
     ]
    }
   ],
   "source": [
    "l=[0,2,3,3]\n",
    "y0=l[3]-l[1]\n",
    "x0=l[0]-l[2]\n",
    "c = l[1]*l[2]-l[0]*l[3]\n",
    "W1 = [-y0,-x0]\n",
    "b1=-c\n",
    "print(\"A: \",\"W:\",W1,\"b:\",b1)"
   ]
  },
  {
   "cell_type": "markdown",
   "id": "e1b5f014",
   "metadata": {},
   "source": [
    "### B"
   ]
  },
  {
   "cell_type": "code",
   "execution_count": 22,
   "id": "4bd913f1",
   "metadata": {},
   "outputs": [
    {
     "name": "stdout",
     "output_type": "stream",
     "text": [
      "B:  W: [1.0, 1.0] b: -6.0\n"
     ]
    }
   ],
   "source": [
    "l=[1,5,3,3]\n",
    "y0=l[3]-l[1]\n",
    "x0=l[0]-l[2]\n",
    "c = l[1]*l[2]-l[0]*l[3]\n",
    "W2 = [-y0/2,-x0/2]\n",
    "b2=-c/2\n",
    "print(\"B: \",\"W:\",W2,\"b:\",b2)"
   ]
  },
  {
   "cell_type": "markdown",
   "id": "28d53602",
   "metadata": {},
   "source": [
    "### C"
   ]
  },
  {
   "cell_type": "code",
   "execution_count": 23,
   "id": "88e257b1",
   "metadata": {},
   "outputs": [
    {
     "name": "stdout",
     "output_type": "stream",
     "text": [
      "C:  W: [1.0, 0.0] b: -1.0\n"
     ]
    }
   ],
   "source": [
    "l=[1,5,1,2]\n",
    "y0=l[3]-l[1]\n",
    "x0=l[0]-l[2]\n",
    "c = l[1]*l[2]-l[0]*l[3]\n",
    "W3 = [-y0/3,-x0/3]\n",
    "b3=-c/3\n",
    "print(\"C: \",\"W:\",W3,\"b:\",b3)"
   ]
  },
  {
   "cell_type": "code",
   "execution_count": 26,
   "id": "35fe0670",
   "metadata": {},
   "outputs": [],
   "source": [
    "W=[W1,W2,W3]"
   ]
  },
  {
   "cell_type": "code",
   "execution_count": 27,
   "id": "ad25f7c4",
   "metadata": {},
   "outputs": [],
   "source": [
    "B=[b1,b2,b3]"
   ]
  },
  {
   "cell_type": "code",
   "execution_count": 28,
   "id": "c31f7a72",
   "metadata": {},
   "outputs": [],
   "source": [
    "dot=np.array([2,0])"
   ]
  },
  {
   "cell_type": "code",
   "execution_count": 29,
   "id": "8115d483",
   "metadata": {},
   "outputs": [],
   "source": [
    "def step(x):\n",
    "    if x>=0:\n",
    "        return 1\n",
    "    else:\n",
    "        return 0"
   ]
  },
  {
   "cell_type": "code",
   "execution_count": 31,
   "id": "4fa8e9b6",
   "metadata": {},
   "outputs": [],
   "source": [
    "output=[]\n",
    "for i in range (3):\n",
    "    outp1=np.dot(dot,W[i])+B[i]\n",
    "    output.append(step(outp1))"
   ]
  },
  {
   "cell_type": "code",
   "execution_count": 32,
   "id": "20444f1f",
   "metadata": {},
   "outputs": [
    {
     "name": "stdout",
     "output_type": "stream",
     "text": [
      "[0, 0, 1]\n"
     ]
    }
   ],
   "source": [
    "print(output)"
   ]
  },
  {
   "cell_type": "markdown",
   "id": "851fa3aa",
   "metadata": {},
   "source": [
    "### سه خط فضای دو بعدی را حداکثر به 7 قسمت مجزا تقسیم می کند. اما سه صفحه در فضای سه بعدی آن را به 8 قسمت مجزا تبدیل می کند. در واقع چون فضای مصور در مساله دوبعدی است به 7 قسمت تبدیل شده است."
   ]
  },
  {
   "cell_type": "markdown",
   "id": "99cf64f3",
   "metadata": {},
   "source": [
    "# 2-2"
   ]
  },
  {
   "cell_type": "code",
   "execution_count": 213,
   "id": "8586c4c8",
   "metadata": {},
   "outputs": [],
   "source": [
    "weights_p2 = np.random.normal(size=(1,3))"
   ]
  },
  {
   "cell_type": "code",
   "execution_count": 218,
   "id": "953fa758",
   "metadata": {},
   "outputs": [],
   "source": [
    "i=[i1,i2,i3,i4]\n",
    "i1=np.array([0,0,0])\n",
    "i2=np.array([-1,1,2])\n",
    "i3=np.array([2,0,-1])\n",
    "i4=np.array([-1,-1,1])"
   ]
  },
  {
   "cell_type": "code",
   "execution_count": 217,
   "id": "6e3a5291",
   "metadata": {},
   "outputs": [],
   "source": [
    "def sigmoid(x):\n",
    "    return 1 / (1 + np.exp(-x))"
   ]
  },
  {
   "cell_type": "code",
   "execution_count": 222,
   "id": "58dba735",
   "metadata": {},
   "outputs": [],
   "source": [
    "n= np.dot(weights_p2,i[0])"
   ]
  },
  {
   "cell_type": "code",
   "execution_count": 227,
   "id": "ec5c2b85",
   "metadata": {},
   "outputs": [],
   "source": [
    "out_p2=[]\n",
    "for c in range(4):\n",
    "    out_p2.append(sigmoid(np.dot(weights_p2,i[c])))"
   ]
  },
  {
   "cell_type": "code",
   "execution_count": 228,
   "id": "83f4f678",
   "metadata": {},
   "outputs": [
    {
     "data": {
      "text/plain": [
       "[array([0.5]), array([0.54196373]), array([0.75900562]), array([0.08264595])]"
      ]
     },
     "execution_count": 228,
     "metadata": {},
     "output_type": "execute_result"
    }
   ],
   "source": [
    "out_p2"
   ]
  },
  {
   "cell_type": "markdown",
   "id": "9df76bcf",
   "metadata": {},
   "source": [
    "## پس سه ورودی اول مربوط به کلاس 1 و ورودی آخرمربوط به دسته 0 می باشد"
   ]
  },
  {
   "cell_type": "markdown",
   "id": "ba78651d",
   "metadata": {},
   "source": [
    "## الف) ReLU"
   ]
  },
  {
   "cell_type": "code",
   "execution_count": 229,
   "id": "44c7c5d0",
   "metadata": {},
   "outputs": [],
   "source": [
    "out_p2=[]\n",
    "for c in range(4):\n",
    "    out_p2.append(relu(np.dot(weights_p2,i[c])))"
   ]
  },
  {
   "cell_type": "code",
   "execution_count": 230,
   "id": "ef5d3ffd",
   "metadata": {},
   "outputs": [
    {
     "data": {
      "text/plain": [
       "[array([0.]), array([0.1682507]), array([1.14723556]), array([0.])]"
      ]
     },
     "execution_count": 230,
     "metadata": {},
     "output_type": "execute_result"
    }
   ],
   "source": [
    "out_p2"
   ]
  },
  {
   "cell_type": "markdown",
   "id": "0bc58ebf",
   "metadata": {},
   "source": [
    "## ب)   tanh"
   ]
  },
  {
   "cell_type": "code",
   "execution_count": 231,
   "id": "e8ff5e0a",
   "metadata": {},
   "outputs": [],
   "source": [
    "out_p2=[]\n",
    "for c in range(4):\n",
    "    out_p2.append(np.tanh(np.dot(weights_p2,i[c])))"
   ]
  },
  {
   "cell_type": "code",
   "execution_count": 232,
   "id": "b2bf460c",
   "metadata": {},
   "outputs": [
    {
     "data": {
      "text/plain": [
       "[array([0.]), array([0.16668084]), array([0.81683621]), array([-0.98389768])]"
      ]
     },
     "execution_count": 232,
     "metadata": {},
     "output_type": "execute_result"
    }
   ],
   "source": [
    "out_p2"
   ]
  },
  {
   "cell_type": "markdown",
   "id": "d2a5dce4",
   "metadata": {},
   "source": [
    "## پ) sigmoid"
   ]
  },
  {
   "cell_type": "code",
   "execution_count": 233,
   "id": "f38eb516",
   "metadata": {},
   "outputs": [],
   "source": [
    "out_p2=[]\n",
    "for c in range(4):\n",
    "    out_p2.append(sigmoid(np.dot(weights_p2,i[c])))"
   ]
  },
  {
   "cell_type": "code",
   "execution_count": 234,
   "id": "2a072792",
   "metadata": {},
   "outputs": [
    {
     "data": {
      "text/plain": [
       "[array([0.5]), array([0.54196373]), array([0.75900562]), array([0.08264595])]"
      ]
     },
     "execution_count": 234,
     "metadata": {},
     "output_type": "execute_result"
    }
   ],
   "source": [
    "out_p2"
   ]
  },
  {
   "cell_type": "markdown",
   "id": "e868ba10",
   "metadata": {},
   "source": [
    "## ث) linear"
   ]
  },
  {
   "cell_type": "code",
   "execution_count": 236,
   "id": "e6b0a33a",
   "metadata": {},
   "outputs": [],
   "source": [
    "def linear(x):\n",
    "    return x\n",
    "out_p2=[]\n",
    "for c in range(4):\n",
    "    out_p2.append(linear(np.dot(weights_p2,i[c])))"
   ]
  },
  {
   "cell_type": "code",
   "execution_count": 237,
   "id": "00370255",
   "metadata": {},
   "outputs": [
    {
     "data": {
      "text/plain": [
       "[array([0.]), array([0.1682507]), array([1.14723556]), array([-2.40692765])]"
      ]
     },
     "execution_count": 237,
     "metadata": {},
     "output_type": "execute_result"
    }
   ],
   "source": [
    "out_p2"
   ]
  },
  {
   "cell_type": "markdown",
   "id": "35d2e548",
   "metadata": {},
   "source": [
    "## ج) Binary Cross-Entropy "
   ]
  },
  {
   "cell_type": "code",
   "execution_count": 34,
   "id": "1a69e1db",
   "metadata": {
    "scrolled": true
   },
   "outputs": [
    {
     "name": "stdout",
     "output_type": "stream",
     "text": [
      "loss: 4.242889641288647\n"
     ]
    }
   ],
   "source": [
    "y = np.array([0,0,1,1])\n",
    "p = np.array([0.5,.54196373,0.75900562,0.08264595])\n",
    "loss = -(y * np.log(p) + (1 - y) * np.log(1 - p))\n",
    "print(f'loss: {loss[0]+loss[1]+loss[2]+loss[3]}')"
   ]
  },
  {
   "cell_type": "markdown",
   "id": "c50c9408",
   "metadata": {},
   "source": [
    "# 2-3"
   ]
  },
  {
   "cell_type": "code",
   "execution_count": 37,
   "id": "4d129df1",
   "metadata": {},
   "outputs": [],
   "source": [
    "W1 = np.random.uniform(-4, 4, (4, 2))\n",
    "b1 = np.random.uniform(-4, 4, (4,1))\n",
    "\n",
    "W2 = np.random.uniform(-4, 4, (3, 4))\n",
    "b2 = np.random.uniform(-4, 4, (3,1))"
   ]
  },
  {
   "cell_type": "code",
   "execution_count": 74,
   "id": "bc0f085a",
   "metadata": {},
   "outputs": [
    {
     "name": "stdout",
     "output_type": "stream",
     "text": [
      "Hidden layer weights: [[-1.22743206  0.32956971]\n",
      " [ 3.67324181  2.98586108]\n",
      " [-1.48028592 -3.66865623]\n",
      " [-3.33220242  0.76094039]]\n",
      "Hiden layer bias: [[-1.54447058]\n",
      " [-1.88714166]\n",
      " [-0.77591612]\n",
      " [-2.21315301]]\n",
      "output layer weights: [[-3.5457723  -1.79716283 -1.91389528  2.22211975]\n",
      " [ 0.05290118  1.4458834  -3.3831845  -1.02064667]\n",
      " [ 0.07963602  2.40877796  2.52051849  3.88440178]]\n",
      "output layer bias: [[-2.09148935]\n",
      " [ 1.67704773]\n",
      " [-2.49051051]]\n"
     ]
    }
   ],
   "source": [
    "print('Hidden layer weights:', W1)\n",
    "print('Hiden layer bias:',b1)\n",
    "print('output layer weights:',W2)\n",
    "print('output layer bias:',b2)"
   ]
  },
  {
   "cell_type": "code",
   "execution_count": 38,
   "id": "5d8d7330",
   "metadata": {},
   "outputs": [],
   "source": [
    "def relu(x):\n",
    "    return np.maximum(0, x)\n",
    "def Softmax(x):\n",
    "    e_x = np.exp(x - np.max(x))\n",
    "    return e_x / e_x.sum()"
   ]
  },
  {
   "cell_type": "code",
   "execution_count": 39,
   "id": "5fb76e39",
   "metadata": {},
   "outputs": [],
   "source": [
    "def one_hot(a):\n",
    "  num_classes = np.max(a)+1\n",
    "  return (np.eye(num_classes)[a.reshape(-1)])"
   ]
  },
  {
   "cell_type": "code",
   "execution_count": 40,
   "id": "9e967a8c",
   "metadata": {},
   "outputs": [
    {
     "name": "stdout",
     "output_type": "stream",
     "text": [
      "[[0.0585332 ]\n",
      " [0.00597067]\n",
      " [0.93549613]]\n"
     ]
    }
   ],
   "source": [
    "x=np.array([[-1],[1]])\n",
    "z1 = np.dot(W1 , x) + b1\n",
    "a1 = relu(z1)\n",
    "z2 = np.dot(W2, a1) + b2\n",
    "p1_1 = Softmax(z2)\n",
    "print(p1_1)"
   ]
  },
  {
   "cell_type": "code",
   "execution_count": 41,
   "id": "38f631d6",
   "metadata": {},
   "outputs": [
    {
     "name": "stdout",
     "output_type": "stream",
     "text": [
      "[[0.01006293]\n",
      " [0.00411096]\n",
      " [0.98582611]]\n"
     ]
    }
   ],
   "source": [
    "x=np.array([[-1],[0]])\n",
    "z1 = np.dot(W1 , x) + b1\n",
    "a1 = relu(z1)\n",
    "z2 = np.dot(W2, a1) + b2\n",
    "p1_2 = Softmax(z2)\n",
    "print(p1_2)"
   ]
  },
  {
   "cell_type": "code",
   "execution_count": 42,
   "id": "8542d2e4",
   "metadata": {},
   "outputs": [
    {
     "name": "stdout",
     "output_type": "stream",
     "text": [
      "[[2.27714329e-08]\n",
      " [5.58367153e-01]\n",
      " [4.41632824e-01]]\n"
     ]
    }
   ],
   "source": [
    "x=np.array([[0],[2]])\n",
    "z1 = np.dot(W1 , x) + b1\n",
    "a1 = relu(z1)\n",
    "z2 = np.dot(W2, a1) + b2\n",
    "p2_1 = Softmax(z2)\n",
    "print(p2_1)"
   ]
  },
  {
   "cell_type": "code",
   "execution_count": 43,
   "id": "a0589c42",
   "metadata": {},
   "outputs": [
    {
     "name": "stdout",
     "output_type": "stream",
     "text": [
      "[[9.70578913e-15]\n",
      " [3.54887195e-02]\n",
      " [9.64511281e-01]]\n"
     ]
    }
   ],
   "source": [
    "x=np.array([[1],[2]])\n",
    "z1 = np.dot(W1 , x) + b1\n",
    "a1 = relu(z1)\n",
    "z2 = np.dot(W2, a1) + b2\n",
    "p2_2 = Softmax(z2)\n",
    "print(p2_2)"
   ]
  },
  {
   "cell_type": "code",
   "execution_count": 44,
   "id": "0bd9b3eb",
   "metadata": {},
   "outputs": [
    {
     "name": "stdout",
     "output_type": "stream",
     "text": [
      "[[1.18905960e-10]\n",
      " [2.51766614e-01]\n",
      " [7.48233386e-01]]\n"
     ]
    }
   ],
   "source": [
    "x=np.array([[2],[0]])\n",
    "z1 = np.dot(W1 , x) + b1\n",
    "a1 = relu(z1)\n",
    "z2 = np.dot(W2, a1) + b2\n",
    "p3_1 = Softmax(z2)\n",
    "print(p3_1)"
   ]
  },
  {
   "cell_type": "code",
   "execution_count": 45,
   "id": "ee8fc995",
   "metadata": {},
   "outputs": [
    {
     "name": "stdout",
     "output_type": "stream",
     "text": [
      "[[5.48246584e-16]\n",
      " [1.86280724e-02]\n",
      " [9.81371928e-01]]\n"
     ]
    }
   ],
   "source": [
    "x=np.array([[2],[1]])\n",
    "z1 = np.dot(W1 , x) + b1\n",
    "a1 = relu(z1)\n",
    "z2 = np.dot(W2, a1) + b2\n",
    "p3_2 = Softmax(z2)\n",
    "print(p3_2)"
   ]
  },
  {
   "cell_type": "markdown",
   "id": "0dd30b75",
   "metadata": {},
   "source": [
    "## Accuracy"
   ]
  },
  {
   "cell_type": "code",
   "execution_count": 71,
   "id": "6e3162f3",
   "metadata": {},
   "outputs": [
    {
     "name": "stdout",
     "output_type": "stream",
     "text": [
      "0.5\n"
     ]
    }
   ],
   "source": [
    "y_pred=np.array([1,1,1,2,2,2])\n",
    "y_true=np.array([0,0,1,1,2,2])\n",
    "accuracy = (y_pred == y_true).mean()\n",
    "print(accuracy)"
   ]
  },
  {
   "cell_type": "markdown",
   "id": "5be8aab8",
   "metadata": {},
   "source": [
    "## Categorical Cross-Entropy"
   ]
  },
  {
   "cell_type": "code",
   "execution_count": 67,
   "id": "b3a671e5",
   "metadata": {},
   "outputs": [],
   "source": [
    "class Loss:\n",
    "  def __init__(self):\n",
    "    pass\n",
    "\n",
    "  def BinaryCrossEntropy(self,y_true, y_pred):\n",
    "    y_pred = np.clip(y_pred, 1e-7, 1 - 1e-7)\n",
    "    term_0 = (1-y_true) * np.log(1-y_pred + 1e-7)\n",
    "    term_1 = y_true * np.log(y_pred + 1e-7)\n",
    "    return -np.mean(term_0+term_1)\n",
    "\n",
    "  def CategoricalCrossEntropy(self,y_true, y_pred):\n",
    "    y_pred = np.clip(y_pred, 1e-7, 1 - 1e-7)\n",
    "    term_0 = (1-y_true) * np.log(1-y_pred + 1e-7)\n",
    "    term_1 = y_true * np.log(y_pred + 1e-7)\n",
    "    return -np.mean(np.sum(y_true*np.log(y_pred)))\n",
    "\n",
    "  def MSE(self,y_true, y_pred):\n",
    "    return  np.square(np.subtract(y_true, y_pred)).mean()"
   ]
  },
  {
   "cell_type": "code",
   "execution_count": 68,
   "id": "9159a93d",
   "metadata": {},
   "outputs": [],
   "source": [
    "out=np.array([p1_1,p1_2,p2_1,p2_2,p3_1,p3_2])\n",
    "out = out.reshape(6,3)"
   ]
  },
  {
   "cell_type": "code",
   "execution_count": 69,
   "id": "88e2ebcd",
   "metadata": {},
   "outputs": [],
   "source": [
    "loss_functions = Loss()\n",
    "y_true_onehot = one_hot(y_true)\n",
    "loss = loss_functions.CategoricalCrossEntropy(y_true_onehot,out)"
   ]
  },
  {
   "cell_type": "code",
   "execution_count": 70,
   "id": "1e24e870",
   "metadata": {},
   "outputs": [
    {
     "name": "stdout",
     "output_type": "stream",
     "text": [
      "11.667181141078686\n"
     ]
    }
   ],
   "source": [
    "print(loss)"
   ]
  },
  {
   "cell_type": "markdown",
   "id": "6fd059d7",
   "metadata": {},
   "source": [
    "# 3-1"
   ]
  },
  {
   "cell_type": "code",
   "execution_count": 107,
   "id": "9a72af7f",
   "metadata": {},
   "outputs": [],
   "source": [
    "import numpy as np\n",
    "\n",
    "p1=np.array([1,4])\n",
    "p2=np.array([1,5])\n",
    "p3=np.array([2,4])\n",
    "p4=np.array([2,5])\n",
    "p5=np.array([3,1])\n",
    "p6=np.array([3,2])\n",
    "p7=np.array([4,1])\n",
    "p8=np.array([4,2])\n",
    "p=np.array([p1,p2,p3,p4,p5,p6,p7,p8])\n",
    "t = np.array([0, 0, 0, 0, 1, 1, 1, 1])\n",
    "\n",
    "w = np.array([10,10])\n",
    "b = 10"
   ]
  },
  {
   "cell_type": "code",
   "execution_count": 108,
   "id": "c4168db3",
   "metadata": {
    "scrolled": true
   },
   "outputs": [
    {
     "name": "stdout",
     "output_type": "stream",
     "text": [
      "in epoch  0 and iteration 0 weights are:  [9 6] and biases is:  9\n",
      "in epoch  0 and iteration 1 weights are:  [8 1] and biases is:  8\n",
      "in epoch  0 and iteration 2 weights are:  [ 6 -3] and biases is:  7\n",
      "in epoch  0 and iteration 3 weights are:  [ 4 -8] and biases is:  6\n",
      "in epoch  0 and iteration 4 weights are:  [ 4 -8] and biases is:  6\n",
      "in epoch  0 and iteration 5 weights are:  [ 4 -8] and biases is:  6\n",
      "in epoch  0 and iteration 6 weights are:  [ 4 -8] and biases is:  6\n",
      "in epoch  0 and iteration 7 weights are:  [ 4 -8] and biases is:  6\n",
      "accuracy in epoch 1 is 1.0\n",
      "in epoch  1 and iteration 0 weights are:  [ 4 -8] and biases is:  6\n",
      "in epoch  1 and iteration 1 weights are:  [ 4 -8] and biases is:  6\n",
      "in epoch  1 and iteration 2 weights are:  [ 4 -8] and biases is:  6\n",
      "in epoch  1 and iteration 3 weights are:  [ 4 -8] and biases is:  6\n",
      "in epoch  1 and iteration 4 weights are:  [ 4 -8] and biases is:  6\n",
      "in epoch  1 and iteration 5 weights are:  [ 4 -8] and biases is:  6\n",
      "in epoch  1 and iteration 6 weights are:  [ 4 -8] and biases is:  6\n",
      "in epoch  1 and iteration 7 weights are:  [ 4 -8] and biases is:  6\n",
      "accuracy in epoch 2 is 1.0\n",
      "in epoch  2 and iteration 0 weights are:  [ 4 -8] and biases is:  6\n",
      "in epoch  2 and iteration 1 weights are:  [ 4 -8] and biases is:  6\n",
      "in epoch  2 and iteration 2 weights are:  [ 4 -8] and biases is:  6\n",
      "in epoch  2 and iteration 3 weights are:  [ 4 -8] and biases is:  6\n",
      "in epoch  2 and iteration 4 weights are:  [ 4 -8] and biases is:  6\n",
      "in epoch  2 and iteration 5 weights are:  [ 4 -8] and biases is:  6\n",
      "in epoch  2 and iteration 6 weights are:  [ 4 -8] and biases is:  6\n",
      "in epoch  2 and iteration 7 weights are:  [ 4 -8] and biases is:  6\n",
      "accuracy in epoch 3 is 1.0\n",
      "in epoch  3 and iteration 0 weights are:  [ 4 -8] and biases is:  6\n",
      "in epoch  3 and iteration 1 weights are:  [ 4 -8] and biases is:  6\n",
      "in epoch  3 and iteration 2 weights are:  [ 4 -8] and biases is:  6\n",
      "in epoch  3 and iteration 3 weights are:  [ 4 -8] and biases is:  6\n",
      "in epoch  3 and iteration 4 weights are:  [ 4 -8] and biases is:  6\n",
      "in epoch  3 and iteration 5 weights are:  [ 4 -8] and biases is:  6\n",
      "in epoch  3 and iteration 6 weights are:  [ 4 -8] and biases is:  6\n",
      "in epoch  3 and iteration 7 weights are:  [ 4 -8] and biases is:  6\n",
      "accuracy in epoch 4 is 1.0\n",
      "in epoch  4 and iteration 0 weights are:  [ 4 -8] and biases is:  6\n",
      "in epoch  4 and iteration 1 weights are:  [ 4 -8] and biases is:  6\n",
      "in epoch  4 and iteration 2 weights are:  [ 4 -8] and biases is:  6\n",
      "in epoch  4 and iteration 3 weights are:  [ 4 -8] and biases is:  6\n",
      "in epoch  4 and iteration 4 weights are:  [ 4 -8] and biases is:  6\n",
      "in epoch  4 and iteration 5 weights are:  [ 4 -8] and biases is:  6\n",
      "in epoch  4 and iteration 6 weights are:  [ 4 -8] and biases is:  6\n",
      "in epoch  4 and iteration 7 weights are:  [ 4 -8] and biases is:  6\n",
      "accuracy in epoch 5 is 1.0\n"
     ]
    }
   ],
   "source": [
    "for epoch in range(5):\n",
    "    for i in range(8):\n",
    "        z = np.dot(w,p[i])+10\n",
    "        if z>=0:\n",
    "            a=1\n",
    "        else:\n",
    "            a=0\n",
    "        e=t[i]-a\n",
    "        w=w+e*p[i]\n",
    "        b=b+e\n",
    "        print('in epoch ',epoch,'and iteration',i,'weights are: ',w,'and biases is: ',b)\n",
    "        f=np.zeros(8)\n",
    "        for i in range(8):\n",
    "            f[i] = np.dot(w,p[i])+b\n",
    "            if f[i]<=0:\n",
    "                f[i]=0\n",
    "            else:\n",
    "                f[i]=1\n",
    "    ac=np.count_nonzero(f==t)\n",
    "    print('accuracy in epoch',epoch+1,'is',ac/8)\n",
    "        "
   ]
  },
  {
   "cell_type": "markdown",
   "id": "8f6c6b3b",
   "metadata": {},
   "source": [
    "### همانطور که مشخص است در انتهای ایپاک اول به دقت 100 رسیده ایم و همین یک ایپاک کافی بود"
   ]
  },
  {
   "cell_type": "markdown",
   "id": "bb830340",
   "metadata": {},
   "source": [
    "# 3-2"
   ]
  },
  {
   "cell_type": "code",
   "execution_count": 101,
   "id": "b03ddc7a",
   "metadata": {},
   "outputs": [],
   "source": [
    "import numpy as np\n",
    "\n",
    "data = np.array([\n",
    "    [-1, 1],\n",
    "    [-1, 0],\n",
    "    [0, 2],\n",
    "    [1, 2],\n",
    "    [2, 0],\n",
    "    [2, 1],\n",
    "    [1, -1],\n",
    "    [0, -1]\n",
    "])\n",
    "\n",
    "#labels: 00  01  11 10\n",
    "labels_1 = np.array([0,0,0,0,1,1,1,1])\n",
    "labels_2 = np.array([0,0,1,1,1,1,0,0])"
   ]
  },
  {
   "cell_type": "code",
   "execution_count": 110,
   "id": "9013e14f",
   "metadata": {},
   "outputs": [],
   "source": [
    "W1 = np.array([1,-1])\n",
    "b1 = np.array([0])\n",
    "\n",
    "W2 = np.array([1,-1])\n",
    "b2 = np.array([0])"
   ]
  },
  {
   "cell_type": "code",
   "execution_count": 111,
   "id": "04324e73",
   "metadata": {},
   "outputs": [],
   "source": [
    "def step(x):\n",
    "    return np.where(x >= 0, 1, 0)"
   ]
  },
  {
   "cell_type": "code",
   "execution_count": 113,
   "id": "8b4b92f7",
   "metadata": {},
   "outputs": [],
   "source": [
    "def acc (ytrue,ypred):\n",
    "    N = ytrue.shape[0]\n",
    "    accuracy = (ytrue == ypred).sum() / N\n",
    "    return accuracy"
   ]
  },
  {
   "cell_type": "code",
   "execution_count": 114,
   "id": "4244f560",
   "metadata": {},
   "outputs": [],
   "source": [
    "def perceptronStep(X, y, W, b):\n",
    "    for index in range(len(X)):\n",
    "        y_hat = step((np.matmul(X[index],W)+b))\n",
    "        e= y[index] - y_hat\n",
    "        W= W + e*X[index]\n",
    "        b = b+e\n",
    "    return W, b"
   ]
  },
  {
   "cell_type": "code",
   "execution_count": 118,
   "id": "489ce836",
   "metadata": {},
   "outputs": [
    {
     "name": "stdout",
     "output_type": "stream",
     "text": [
      "final accuracy is: 100.0\n",
      "\n",
      "Model final params:\n",
      "  W: [[ 1 -1]\n",
      " [ 1  1]] \n",
      "b: [[ 0]\n",
      " [-1]]\n"
     ]
    }
   ],
   "source": [
    "y_1 = step((np.matmul(data,W1)+b1))\n",
    "y_2 = step((np.matmul(data,W2)+b2))\n",
    "\n",
    "for i in range(5):\n",
    "  W1,b1 = perceptronStep(data, labels_1, W1, b1)\n",
    "  W2,b2 = perceptronStep(data, labels_2, W2, b2)\n",
    "\n",
    "  y_hat1 = step((np.matmul(data,W1)+b1))\n",
    "  y_hat2 = step((np.matmul(data,W2)+b2))\n",
    "\n",
    "  accu =(acc(labels_1,y_1)/2 + acc(labels_2,y_2)/2)*100\n",
    "  \n",
    "\n",
    "print('final accuracy is:',accu)\n",
    "print(\"\\nModel final params:\\n \",\"W:\",np.array([W1,W2]),\"\\nb:\",np.array([b1,b2]))"
   ]
  },
  {
   "cell_type": "code",
   "execution_count": 119,
   "id": "a354f501",
   "metadata": {},
   "outputs": [
    {
     "name": "stdout",
     "output_type": "stream",
     "text": [
      "[1 0 1 1] \n",
      " [0 1 0 0]\n"
     ]
    }
   ],
   "source": [
    "test_data = np.array([\n",
    "    [0, 0],\n",
    "    [0, 1],\n",
    "    [1, -2],\n",
    "    [-2, -5]\n",
    "])\n",
    "\n",
    "y_test_1 = step((np.dot(test_data,W1)+b1))\n",
    "y_test_2 = step((np.dot(test_data,W2)+b2))\n",
    "\n",
    "print(y_test_1,\"\\n\",y_test_2)"
   ]
  },
  {
   "cell_type": "markdown",
   "id": "74da6a9d",
   "metadata": {},
   "source": [
    "### labels are: 10 , 01 , 10 ,10"
   ]
  },
  {
   "cell_type": "markdown",
   "id": "8006ca8d",
   "metadata": {},
   "source": [
    "# 3-3"
   ]
  },
  {
   "cell_type": "code",
   "execution_count": 120,
   "id": "38789535",
   "metadata": {},
   "outputs": [
    {
     "data": {
      "image/png": "[encoded data removed]",
      "text/plain": [
       "<Figure size 640x480 with 1 Axes>"
      ]
     },
     "metadata": {},
     "output_type": "display_data"
    }
   ],
   "source": [
    "import numpy as np\n",
    "import matplotlib.pyplot as plt\n",
    "\n",
    "def custom_function(x, y):\n",
    "    if x**2 < y - 2:\n",
    "        return 0\n",
    "    elif -x**2 > y + 2:\n",
    "        return 1\n",
    "    else:\n",
    "        return 2\n",
    "\n",
    "\n",
    "x_values = np.arange(-20, 21, 0.1)\n",
    "y_values = np.arange(-20, 21, 0.1)\n",
    "\n",
    "# Calculate function values for each point\n",
    "points = [(x, y) for x in x_values for y in y_values]\n",
    "results = [custom_function(x, y) for x, y in points]\n",
    "\n",
    "# Separate points based on the result\n",
    "result_0 = [point for point, result in zip(points, results) if result == 0]\n",
    "result_1 = [point for point, result in zip(points, results) if result == 1]\n",
    "result_2 = [point for point, result in zip(points, results) if result == 2]\n",
    "\n",
    "# Unzip points for plotting\n",
    "x_0, y_0 = zip(*result_0)\n",
    "x_1, y_1 = zip(*result_1)\n",
    "x_2, y_2 = zip(*result_2)\n",
    "\n",
    "# Plot the points with different markers based on the result\n",
    "plt.scatter(x_0, y_0, marker='o', label='Result 0')\n",
    "plt.scatter(x_1, y_1, marker='*', label='Result 1')\n",
    "plt.scatter(x_2, y_2, marker='^', label='Result 2')\n",
    "\n",
    "# Set plot labels and legend\n",
    "plt.xlabel('X')\n",
    "plt.ylabel('Y')\n",
    "plt.title('Plot of Custom Function')\n",
    "plt.legend()\n",
    "plt.grid(True)\n",
    "plt.show()\n",
    "        "
   ]
  },
  {
   "cell_type": "markdown",
   "id": "b82bd315",
   "metadata": {},
   "source": [
    "## 3-3) الف"
   ]
  },
  {
   "cell_type": "markdown",
   "id": "94d752af",
   "metadata": {},
   "source": [
    "#### تابع فوق به صورت یک خط جدا پذیر نیست. اما به طور کلی با چندین خط قابل تفکیک به کلاس های 0 و 1و 2 می باشد"
   ]
  },
  {
   "cell_type": "markdown",
   "id": "50bbd737",
   "metadata": {},
   "source": [
    "## 3-3) ب"
   ]
  },
  {
   "cell_type": "code",
   "execution_count": 59,
   "id": "ad1a5452",
   "metadata": {},
   "outputs": [],
   "source": [
    "points_0, points_1, points_2 = [], [], []\n",
    "\n",
    "while len(points_0) < 100 or len(points_1) < 100 or len(points_2) < 100:\n",
    "    x = np.random.randint(-20, 21)  \n",
    "    y = np.random.randint(-20, 21) \n",
    "    \n",
    "    result = custom_function(x, y)\n",
    "    if result == 0 and len(points_0) < 100:\n",
    "        points_0.append((x, y))\n",
    "    elif result == 1 and len(points_1) < 100:\n",
    "        points_1.append((x, y))\n",
    "    elif result == 2 and len(points_2) < 100:\n",
    "        points_2.append((x, y))\n",
    "dataset = points_0, points_1, points_2\n",
    "labels = [0]*100 + [1]*100 + [2]*100"
   ]
  },
  {
   "cell_type": "markdown",
   "id": "683e0271",
   "metadata": {},
   "source": [
    "## 3-3) پ"
   ]
  },
  {
   "cell_type": "code",
   "execution_count": 150,
   "id": "3e3e0aef",
   "metadata": {},
   "outputs": [],
   "source": [
    "# Define the softmax activation function\n",
    "def softmax(x):\n",
    "    exp_x = np.exp(x - np.max(x, axis=1, keepdims=True))\n",
    "    return exp_x / np.sum(exp_x, axis=1, keepdims=True)"
   ]
  },
  {
   "cell_type": "code",
   "execution_count": 151,
   "id": "2b682b7e",
   "metadata": {},
   "outputs": [],
   "source": [
    "input_size = 2\n",
    "output_size = 3\n",
    "weights = np.random.rand(input_size, output_size)\n",
    "bias = np.zeros((1, output_size))"
   ]
  },
  {
   "cell_type": "code",
   "execution_count": 152,
   "id": "b4cb27b3",
   "metadata": {},
   "outputs": [],
   "source": [
    "# Training the model\n",
    "learning_rate = 0.05\n",
    "epochs = 5"
   ]
  },
  {
   "cell_type": "code",
   "execution_count": 153,
   "id": "235f0120",
   "metadata": {},
   "outputs": [],
   "source": [
    "features = np.array(dataset)\n",
    "labels = np.array(labels)"
   ]
  },
  {
   "cell_type": "code",
   "execution_count": 154,
   "id": "5b6d03c6",
   "metadata": {},
   "outputs": [],
   "source": [
    "features = features.reshape(300,2)"
   ]
  },
  {
   "cell_type": "code",
   "execution_count": 155,
   "id": "769c045d",
   "metadata": {},
   "outputs": [],
   "source": [
    "def one_hot_encode(labels, num_classes):\n",
    "    num_samples = 300\n",
    "    encoded_labels = np.zeros((num_samples, num_classes))\n",
    "    for i in range(num_samples):\n",
    "        encoded_labels[i, labels[i]] = 1\n",
    "    return encoded_labels\n",
    "num_classes = 3\n",
    "encoded_labels = one_hot_encode(labels, num_classes)"
   ]
  },
  {
   "cell_type": "code",
   "execution_count": 156,
   "id": "c7510984",
   "metadata": {},
   "outputs": [
    {
     "name": "stdout",
     "output_type": "stream",
     "text": [
      "Epoch 1/5 - Loss: 3.134604973583125\n",
      "Epoch 2/5 - Loss: 1.2626580311479982\n",
      "Epoch 3/5 - Loss: 1.0162331760715704\n",
      "Epoch 4/5 - Loss: 0.8463825444700477\n",
      "Epoch 5/5 - Loss: 0.7471605442419816\n"
     ]
    }
   ],
   "source": [
    "# Training loop\n",
    "for epoch in range(epochs):\n",
    "    # Forward pass\n",
    "    weighted_sum = np.dot(features, weights) + bias\n",
    "    predictions = softmax(weighted_sum)\n",
    "    \n",
    "    # Calculate loss using cross-entropy with one-hot encoding\n",
    "    loss = -np.sum(encoded_labels * np.log(predictions)) / 300\n",
    "    \n",
    "    # Backpropagation\n",
    "    error = predictions - encoded_labels\n",
    "    gradient_weights = np.dot(features.T, error) / 300\n",
    "    gradient_biases = np.mean(error, axis=0, keepdims=True)\n",
    "    \n",
    "    # Update weights and biases\n",
    "    weights -= learning_rate * gradient_weights\n",
    "    bias -= learning_rate * gradient_biases\n",
    "    \n",
    "    # Print the loss for each epoch\n",
    "    print(f\"Epoch {epoch + 1}/{epochs} - Loss: {loss}\")"
   ]
  },
  {
   "cell_type": "markdown",
   "id": "d436e8d9",
   "metadata": {},
   "source": [
    "### 3-3) ت"
   ]
  },
  {
   "cell_type": "code",
   "execution_count": 163,
   "id": "7f3da40e",
   "metadata": {},
   "outputs": [
    {
     "name": "stdout",
     "output_type": "stream",
     "text": [
      "weights are: [[0.47517288 0.47965894 0.43990041]\n",
      " [0.29158253 0.05765177 0.17871834]]\n",
      "biases are: [[-0.01677595 -0.02175933  0.03853528]]\n"
     ]
    }
   ],
   "source": [
    "print(f'weights are: {weights}')\n",
    "\n",
    "print(f'biases are: {bias}')"
   ]
  },
  {
   "cell_type": "markdown",
   "id": "0dd0945a",
   "metadata": {},
   "source": [
    "### 3-3) ث\n",
    "#### در یک روش اگر در خروجی  فقط سه نورون وجود بگذاریم امکان تولید یک کلاس جدید (یک نورون جدید) وجود ندارد.\n",
    "#### اگر مساله را به صورت کدبندی وان هات حل کنیم و در خروجی دو نورون بگذاریم این امکان دارد که مساله دارای خروجی با دسته 3 داشته باشد."
   ]
  },
  {
   "cell_type": "markdown",
   "id": "fbe59673",
   "metadata": {},
   "source": [
    "### 3-4) الف"
   ]
  },
  {
   "cell_type": "code",
   "execution_count": 145,
   "id": "ad29d6b6",
   "metadata": {},
   "outputs": [],
   "source": [
    "x = np.arange(-3,4,0.5)  \n",
    "y = np.arange(-3,4,0.5)  \n",
    "x_grid, y_grid = np.meshgrid(x, y)\n",
    "inputs = np.column_stack((x_grid.ravel(), y_grid.ravel()))\n",
    "labels = np.array([1 if abs(x)< 2 and abs(y) < 2 else 0 for x, y in inputs])"
   ]
  },
  {
   "cell_type": "code",
   "execution_count": 147,
   "id": "dadd3891",
   "metadata": {},
   "outputs": [
    {
     "name": "stdout",
     "output_type": "stream",
     "text": [
      "Accuracy is: 53.57142857142857\n"
     ]
    }
   ],
   "source": [
    "W = [0.1,0.1]\n",
    "b = 0\n",
    "for i in range(200):\n",
    "  W,b = perceptronStep(inputs, labels, W, b)\n",
    "  y_hat = step((np.matmul(inputs,W)+b))\n",
    "  \n",
    "print(\"Accuracy is:\",acc(labels,y_hat)*100)"
   ]
  },
  {
   "cell_type": "markdown",
   "id": "655019a8",
   "metadata": {},
   "source": [
    "### 3-4) ب"
   ]
  },
  {
   "cell_type": "code",
   "execution_count": 148,
   "id": "99613485",
   "metadata": {},
   "outputs": [
    {
     "name": "stdout",
     "output_type": "stream",
     "text": [
      "Trained weights: [ 0.1 -2.9]\n",
      "Trained bias: 1\n"
     ]
    }
   ],
   "source": [
    "print(\"Trained weights:\",W)\n",
    "print(\"Trained bias:\",b)"
   ]
  },
  {
   "cell_type": "markdown",
   "id": "038893c7",
   "metadata": {},
   "source": [
    "### 3-4) پ"
   ]
  },
  {
   "cell_type": "code",
   "execution_count": 150,
   "id": "f0f6386c",
   "metadata": {},
   "outputs": [
    {
     "name": "stdout",
     "output_type": "stream",
     "text": [
      "[0 0]\n"
     ]
    }
   ],
   "source": [
    "test_inputs = np.array([[-1,0.5], [0, 3]])\n",
    "out = step((np.matmul(test_inputs,W)+b))\n",
    "print(out)"
   ]
  },
  {
   "cell_type": "markdown",
   "id": "8ab4cb13",
   "metadata": {},
   "source": [
    "## 4)"
   ]
  },
  {
   "cell_type": "code",
   "execution_count": 4,
   "id": "4b441b30",
   "metadata": {},
   "outputs": [],
   "source": [
    "# Data and labels\n",
    "X = np.array([[0, 1, 2],\n",
    "              [-4, 3, 4],\n",
    "              [1.7, -1, 0],\n",
    "              [-2, -3, 1.5]])\n",
    "\n",
    "y = np.array([0.4, -1.6, 3.7, -0.9])\n",
    "\n",
    "weights_input_hidden = np.ones((3, 4)) \n",
    "weights_hidden_output = np.array([-1, -1, -1, -1])  \n",
    "bias_hidden = np.ones((1, 4))  \n",
    "bias_output = -1 "
   ]
  },
  {
   "cell_type": "code",
   "execution_count": 5,
   "id": "802a1dea",
   "metadata": {},
   "outputs": [],
   "source": [
    "def relu(x):\n",
    "    return np.maximum(0, x)\n",
    "\n",
    "\n",
    "hidden_layer_input = np.dot(X, weights_input_hidden) + bias_hidden\n",
    "hidden_layer_output = relu(hidden_layer_input)\n",
    "output_layer_input = np.dot(hidden_layer_output, weights_hidden_output) + bias_output\n",
    "predicted_output = output_layer_input\n",
    "error = y - predicted_output"
   ]
  },
  {
   "cell_type": "code",
   "execution_count": 6,
   "id": "ea9100cf",
   "metadata": {},
   "outputs": [
    {
     "name": "stdout",
     "output_type": "stream",
     "text": [
      "Mean Squared Error (MSE): 168.045\n"
     ]
    }
   ],
   "source": [
    "mse = np.mean(np.square(error))\n",
    "print(\"Mean Squared Error (MSE):\", mse)"
   ]
  },
  {
   "cell_type": "markdown",
   "id": "caaf56f9",
   "metadata": {},
   "source": [
    "## 5-1"
   ]
  },
  {
   "cell_type": "code",
   "execution_count": 3,
   "id": "cede1c55",
   "metadata": {},
   "outputs": [],
   "source": [
    "import torch\n",
    "import torch.nn as nn"
   ]
  },
  {
   "cell_type": "code",
   "execution_count": 4,
   "id": "4b3a1a3a",
   "metadata": {},
   "outputs": [],
   "source": [
    "inputs = torch.tensor([[0, 0, 0], \n",
    "                       [-1, 1, 2], \n",
    "                       [2, 0, -1], \n",
    "                       [-1, -1, 1]], dtype=torch.float32)\n",
    "\n",
    "labels = torch.tensor([0, 0, 1, 1], dtype=torch.float32)"
   ]
  },
  {
   "cell_type": "markdown",
   "id": "1ee2ab62",
   "metadata": {},
   "source": [
    "### RELU"
   ]
  },
  {
   "cell_type": "code",
   "execution_count": 35,
   "id": "8745cfc0",
   "metadata": {},
   "outputs": [],
   "source": [
    "class SimpleClassifier(nn.Module):\n",
    "    def __init__(self):\n",
    "        super(SimpleClassifier, self).__init__()\n",
    "        self.fc1 = nn.Linear(3, 1)  \n",
    "        self.fc1.weight.data.normal_(0, 1)\n",
    "        self.fc1.bias.data.normal_(0, 1)\n",
    "        self.relu = nn.ReLU()\n",
    "        self.fc2 = nn.Linear(1, 1)\n",
    "\n",
    "    def forward(self, x):\n",
    "        x = self.relu(self.fc1(x))  \n",
    "        x = torch.sigmoid(self.fc2(x))\n",
    "        return x\n",
    "\n",
    "\n",
    "model = SimpleClassifier()\n",
    "\n",
    "criterion = nn.BCELoss()  "
   ]
  },
  {
   "cell_type": "code",
   "execution_count": 36,
   "id": "e580e3f0",
   "metadata": {},
   "outputs": [
    {
     "name": "stdout",
     "output_type": "stream",
     "text": [
      "Binary Cross Entropy Loss: 0.6670\n"
     ]
    }
   ],
   "source": [
    "with torch.no_grad():\n",
    "    outputs = model(inputs)\n",
    "    loss = criterion(outputs.squeeze(), labels) \n",
    "    print(f'Binary Cross Entropy Loss: {loss.item():.4f}')"
   ]
  },
  {
   "cell_type": "markdown",
   "id": "a8a559c3",
   "metadata": {},
   "source": [
    "### tanh"
   ]
  },
  {
   "cell_type": "code",
   "execution_count": 37,
   "id": "7820bf7c",
   "metadata": {},
   "outputs": [],
   "source": [
    "class SimpleClassifier(nn.Module):\n",
    "    def __init__(self):\n",
    "        super(SimpleClassifier, self).__init__()\n",
    "        self.fc1 = nn.Linear(3, 1) \n",
    "        self.fc1.weight.data.normal_(0, 1)\n",
    "        self.fc1.bias.data.normal_(0, 1)\n",
    "        self.tanh = nn.Tanh()\n",
    "        self.fc2 = nn.Linear(1, 1)\n",
    "\n",
    "    def forward(self, x):\n",
    "        x = self.tanh(self.fc1(x))  \n",
    "        x = torch.sigmoid(self.fc2(x))\n",
    "        return x\n",
    "\n",
    "model = SimpleClassifier()\n",
    "criterion = nn.BCELoss() "
   ]
  },
  {
   "cell_type": "code",
   "execution_count": 38,
   "id": "712a7cad",
   "metadata": {},
   "outputs": [
    {
     "name": "stdout",
     "output_type": "stream",
     "text": [
      "Binary Cross Entropy Loss: 0.8044\n"
     ]
    }
   ],
   "source": [
    "with torch.no_grad():\n",
    "    outputs = model(inputs)\n",
    "    loss = criterion(outputs.squeeze(), labels)\n",
    "    print(f'Binary Cross Entropy Loss: {loss.item():.4f}')"
   ]
  },
  {
   "cell_type": "markdown",
   "id": "dfe8c51b",
   "metadata": {},
   "source": [
    "### Sigmiod"
   ]
  },
  {
   "cell_type": "code",
   "execution_count": 41,
   "id": "74455aa3",
   "metadata": {},
   "outputs": [],
   "source": [
    "class SimpleClassifier(nn.Module):\n",
    "    def __init__(self):\n",
    "        super(SimpleClassifier, self).__init__()\n",
    "        self.fc1 = nn.Linear(3, 1)\n",
    "        self.fc1.weight.data.normal_(0, 1)\n",
    "        self.fc1.bias.data.normal_(0, 1)\n",
    "        self.sigmoid = nn.Sigmoid()\n",
    "        self.fc2 = nn.Linear(1, 1) \n",
    "\n",
    "    def forward(self, x):\n",
    "        x = self.sigmoid(self.fc1(x))  \n",
    "        x = torch.sigmoid(self.fc2(x))\n",
    "        return x\n",
    "\n",
    "model = SimpleClassifier()\n",
    "criterion = nn.BCELoss() "
   ]
  },
  {
   "cell_type": "code",
   "execution_count": 42,
   "id": "13e8fb7a",
   "metadata": {},
   "outputs": [
    {
     "name": "stdout",
     "output_type": "stream",
     "text": [
      "Binary Cross Entropy Loss: 0.8146\n"
     ]
    }
   ],
   "source": [
    "with torch.no_grad():\n",
    "    outputs = model(inputs)\n",
    "    loss = criterion(outputs.squeeze(), labels)\n",
    "\n",
    "    print(f'Binary Cross Entropy Loss: {loss.item():.4f}')"
   ]
  },
  {
   "cell_type": "markdown",
   "id": "c21bd4c7",
   "metadata": {},
   "source": [
    "### Linear"
   ]
  },
  {
   "cell_type": "code",
   "execution_count": 39,
   "id": "b7055bb7",
   "metadata": {},
   "outputs": [],
   "source": [
    "class SimpleClassifier(nn.Module):\n",
    "    def __init__(self):\n",
    "        super(SimpleClassifier, self).__init__()\n",
    "        self.fc1 = nn.Linear(3, 1)  \n",
    "        self.fc1.weight.data.normal_(0, 1)\n",
    "        self.fc1.bias.data.normal_(0, 1)\n",
    "        self.fc2 = nn.Linear(1, 1) \n",
    "\n",
    "    def forward(self, x):\n",
    "        x = self.fc1(x) \n",
    "        x = torch.sigmoid(self.fc2(x))\n",
    "        return x\n",
    "\n",
    "model = SimpleClassifier()\n",
    "criterion = nn.BCELoss()"
   ]
  },
  {
   "cell_type": "code",
   "execution_count": 40,
   "id": "90ca715e",
   "metadata": {},
   "outputs": [
    {
     "name": "stdout",
     "output_type": "stream",
     "text": [
      "Binary Cross Entropy Loss: 0.5601\n"
     ]
    }
   ],
   "source": [
    "with torch.no_grad():\n",
    "    outputs = model(inputs)\n",
    "    loss = criterion(outputs.squeeze(), labels)  # Calculate the binary cross-entropy loss\n",
    "\n",
    "    print(f'Binary Cross Entropy Loss: {loss.item():.4f}')"
   ]
  },
  {
   "cell_type": "markdown",
   "id": "aa31b0c8",
   "metadata": {},
   "source": [
    "## 5-2"
   ]
  },
  {
   "cell_type": "markdown",
   "id": "b91d829b",
   "metadata": {},
   "source": [
    "### ابتدا مساله را با کتابخانه پایتورچ حل می کنیم. یعنی به تعداد ایپاکی که نیاز هست آموزش می دهیم تا به دقت 100 برسیم."
   ]
  },
  {
   "cell_type": "code",
   "execution_count": 59,
   "id": "3a9eee09",
   "metadata": {},
   "outputs": [],
   "source": [
    "import torch\n",
    "import torch.nn as nn\n",
    "import numpy as np\n",
    "\n",
    "category1 = np.array([[-1, 1], [-1, 0]])\n",
    "category2 = np.array([[0, 2], [1, 2]])\n",
    "category3 = np.array([[2, 0], [2, 1]])\n",
    "category4 = np.array([[1, -1], [0, -1]])\n",
    "\n",
    "labels = torch.tensor([0,0,1, 1,2, 2,3, 3]) \n",
    "\n",
    "data = np.concatenate((category1, category2, category3, category4), axis=0)\n",
    "\n",
    "inputs = torch.tensor(data, dtype=torch.float32)"
   ]
  },
  {
   "cell_type": "code",
   "execution_count": 60,
   "id": "76f739f0",
   "metadata": {},
   "outputs": [],
   "source": [
    "class Perceptron(nn.Module):\n",
    "    def __init__(self):\n",
    "        super(Perceptron, self).__init__()\n",
    "        self.fc = nn.Linear(2, 4)\n",
    "        \n",
    "    def forward(self, x):\n",
    "        x = self.fc(x)\n",
    "        return torch.softmax(x, dim=1) "
   ]
  },
  {
   "cell_type": "code",
   "execution_count": 61,
   "id": "7b1e4f71",
   "metadata": {},
   "outputs": [
    {
     "name": "stdout",
     "output_type": "stream",
     "text": [
      "Training complete. Reached 100% accuracy in epoch 264\n"
     ]
    }
   ],
   "source": [
    "model = Perceptron()\n",
    "criterion = nn.CrossEntropyLoss()\n",
    "optimizer = torch.optim.SGD(model.parameters(), lr=0.1)\n",
    "\n",
    "# Training loop\n",
    "epochs = 1000\n",
    "for epoch in range(epochs):\n",
    "    optimizer.zero_grad()\n",
    "    outputs = model(inputs)\n",
    "    loss = criterion(outputs, labels)  \n",
    "    loss.backward()\n",
    "    optimizer.step()\n",
    "\n",
    "    # Check accuracy\n",
    "    _, predicted = torch.max(outputs, 1)\n",
    "    accuracy = (predicted == labels).sum().item() / labels.size(0)  \n",
    "\n",
    "    if accuracy == 1.0:\n",
    "        print(f\"Training complete. Reached 100% accuracy in epoch {epoch+1}\")\n",
    "        break"
   ]
  },
  {
   "cell_type": "markdown",
   "id": "7d60ce43",
   "metadata": {},
   "source": [
    "### با وزن های به دست آمده با پایتورچ خروجی های ما به شکل زیر می شود."
   ]
  },
  {
   "cell_type": "code",
   "execution_count": 63,
   "id": "6d62cbe8",
   "metadata": {},
   "outputs": [
    {
     "name": "stdout",
     "output_type": "stream",
     "text": [
      "Predicted Labels for Test Data:\n",
      "[0 0 3 3]\n"
     ]
    }
   ],
   "source": [
    "test_data = torch.tensor([[0, 0], [0, 1], [1, -2], [-2, -5]], dtype=torch.float32)\n",
    "with torch.no_grad():\n",
    "    model.eval()\n",
    "    predictions = model(test_data)\n",
    "    _, predicted_labels = torch.max(predictions, 1)\n",
    "    print(\"Predicted Labels for Test Data:\")\n",
    "    print(predicted_labels.numpy())"
   ]
  },
  {
   "cell_type": "markdown",
   "id": "6ad7dcc4",
   "metadata": {},
   "source": [
    "###  وزن های به دست آمده در سوال 3-2 را به این شبکه اعمال می کنیم و خروجی به همان صورت قبل می شود. "
   ]
  },
  {
   "cell_type": "code",
   "execution_count": 69,
   "id": "0e55e0b4",
   "metadata": {},
   "outputs": [
    {
     "name": "stdout",
     "output_type": "stream",
     "text": [
      "Predicted Outputs:\n",
      "[[1.]\n",
      " [1.]\n",
      " [1.]\n",
      " [1.]]\n"
     ]
    }
   ],
   "source": [
    "class CustomPerceptron(nn.Module):\n",
    "    def __init__(self):\n",
    "        super(CustomPerceptron, self).__init__()\n",
    "        self.fc = nn.Linear(2, 1)  \n",
    "        with torch.no_grad():\n",
    "            self.fc.weight = nn.Parameter(torch.tensor([[60.36312114, -29.9944062]]))  \n",
    "            self.fc.bias = nn.Parameter(torch.tensor([60.330720405878694])) \n",
    "\n",
    "    def forward(self, x):\n",
    "        x = torch.sigmoid(self.fc(x)) \n",
    "        return x\n",
    "\n",
    "custom_model = CustomPerceptron()\n",
    "\n",
    "test_data = torch.tensor([[0, 0], [0, 1], [1, -2], [-2, -5]], dtype=torch.float32)\n",
    "\n",
    "with torch.no_grad():\n",
    "    custom_model.eval()\n",
    "    predictions = custom_model(test_data)\n",
    "    print(\"Predicted Outputs:\")\n",
    "    print(predictions.numpy())"
   ]
  },
  {
   "cell_type": "markdown",
   "id": "34546b09",
   "metadata": {},
   "source": [
    "## 5-3"
   ]
  },
  {
   "cell_type": "code",
   "execution_count": 70,
   "id": "d95d9e3f",
   "metadata": {},
   "outputs": [],
   "source": [
    "import torch\n",
    "import torch.nn.functional as F\n",
    "\n",
    "X = torch.tensor([[0, 1, 2],\n",
    "                  [-4, 3, 4],\n",
    "                  [1.7, -1, 0],\n",
    "                  [-2, -3, 1.5]], dtype=torch.float32)\n",
    "\n",
    "y = torch.tensor([0.4, -1.6, 3.7, -0.9], dtype=torch.float32)\n"
   ]
  },
  {
   "cell_type": "code",
   "execution_count": 71,
   "id": "1f310a30",
   "metadata": {},
   "outputs": [],
   "source": [
    "weights_input_hidden = torch.ones((3, 4), dtype=torch.float32)  # Weights for input to hidden layer\n",
    "weights_hidden_output = torch.tensor([-1, -1, -1, -1], dtype=torch.float32)  # Weights for hidden layer to output\n",
    "bias_hidden = torch.ones((1, 4), dtype=torch.float32)  # Biases for hidden layer\n",
    "bias_output = torch.tensor(-1, dtype=torch.float32)"
   ]
  },
  {
   "cell_type": "code",
   "execution_count": 72,
   "id": "483f2379",
   "metadata": {},
   "outputs": [],
   "source": [
    "def forward_pass(x):\n",
    "    hidden_layer_input = torch.matmul(x, weights_input_hidden) + bias_hidden\n",
    "    hidden_layer_output = F.relu(hidden_layer_input)\n",
    "\n",
    "    output_layer_input = torch.matmul(hidden_layer_output, weights_hidden_output) + bias_output\n",
    "    return output_layer_input"
   ]
  },
  {
   "cell_type": "markdown",
   "id": "f4b6fe0a",
   "metadata": {},
   "source": [
    "### هر دو خروجی مقدارشان برابر با 168 شد"
   ]
  },
  {
   "cell_type": "code",
   "execution_count": 74,
   "id": "d635a42e",
   "metadata": {},
   "outputs": [
    {
     "name": "stdout",
     "output_type": "stream",
     "text": [
      "Mean Squared Error (MSE): 168.0449981689453\n"
     ]
    }
   ],
   "source": [
    "predicted_output = forward_pass(X)\n",
    "error = y - predicted_output\n",
    "mse = torch.mean(error**2)\n",
    "print(\"Mean Squared Error (MSE):\", mse.item())"
   ]
  },
  {
   "cell_type": "code",
   "execution_count": null,
   "id": "f3be60ab",
   "metadata": {},
   "outputs": [],
   "source": []
  }
 ],
 "metadata": {
  "kernelspec": {
   "display_name": "Python 3 (ipykernel)",
   "language": "python",
   "name": "python3"
  },
  "language_info": {
   "codemirror_mode": {
    "name": "ipython",
    "version": 3
   },
   "file_extension": ".py",
   "mimetype": "text/x-python",
   "name": "python",
   "nbconvert_exporter": "python",
   "pygments_lexer": "ipython3",
   "version": "3.9.13"
  }
 },
 "nbformat": 4,
 "nbformat_minor": 5
}
